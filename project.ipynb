{
 "cells": [
  {
   "metadata": {
    "collapsed": true,
    "ExecuteTime": {
     "end_time": "2025-05-28T18:07:27.802556Z",
     "start_time": "2025-05-28T18:07:27.765287Z"
    }
   },
   "cell_type": "code",
   "source": [
    "import csv\n",
    "csv_file = 'staff_diplom.csv'  # Путь к исходному CSV файлу\n",
    "txt_file = 'output.txt'  # Путь к выходному TXT файлу\n",
    "with open(csv_file, mode='r', encoding='utf-8') as csv_input, \\\n",
    "     open(txt_file, mode='w', encoding='utf-8') as txt_output:\n",
    "    csv_reader = csv.reader(csv_input)\n",
    "    for row in csv_reader:\n",
    "        s = row[0]\n",
    "        s = s.split(';')\n",
    "        txt_output.write(s[2][1:-1] + '\\n')"
   ],
   "id": "initial_id",
   "outputs": [],
   "execution_count": 10
  }
 ],
 "metadata": {
  "kernelspec": {
   "display_name": "Python 3",
   "language": "python",
   "name": "python3"
  },
  "language_info": {
   "codemirror_mode": {
    "name": "ipython",
    "version": 2
   },
   "file_extension": ".py",
   "mimetype": "text/x-python",
   "name": "python",
   "nbconvert_exporter": "python",
   "pygments_lexer": "ipython2",
   "version": "2.7.6"
  }
 },
 "nbformat": 4,
 "nbformat_minor": 5
}
